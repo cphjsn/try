{
 "cells": [
  {
   "cell_type": "code",
   "execution_count": 299,
   "metadata": {
    "collapsed": false
   },
   "outputs": [
    {
     "name": "stdout",
     "output_type": "stream",
     "text": [
      "0.31\n"
     ]
    },
    {
     "data": {
      "image/png": "[encoded data removed]",
      "text/plain": [
       "<matplotlib.figure.Figure at 0x11957b0d0>"
      ]
     },
     "metadata": {},
     "output_type": "display_data"
    }
   ],
   "source": [
    "# The %... is an iPython thing, and is not part of the Python language.\n",
    "# In this case we're just telling the plotting library to draw things on\n",
    "# the notebook, instead of on a separate window.\n",
    "%matplotlib inline \n",
    "#this line above prepares IPython notebook for working with matplotlib\n",
    "\n",
    "# See all the \"as ...\" contructs? They're just aliasing the package names.\n",
    "# That way we can call methods like plt.plot() instead of matplotlib.pyplot.plot().\n",
    "\n",
    "import numpy as np # imports a fast numerical programming library\n",
    "import scipy as sp #imports stats functions, amongst other things\n",
    "import matplotlib as mpl # this actually imports matplotlib\n",
    "import matplotlib.cm as cm #allows us easy access to colormaps\n",
    "import matplotlib.pyplot as plt #sets up plotting under plt\n",
    "import pandas as pd #lets us handle data as dataframes\n",
    "#sets up pandas table display\n",
    "pd.set_option('display.width', 500)\n",
    "pd.set_option('display.max_columns', 100)\n",
    "pd.set_option('display.notebook_repr_html', True)\n",
    "import seaborn as sns #sets up styles and gives us more plotting options\n",
    "\n",
    "class game(object):\n",
    "    \n",
    "    def __init__(self,nsim,num):\n",
    "        self.nsim = nsim\n",
    "        self.num = num\n",
    "    \n",
    "    def cash_door(self):\n",
    "        return np.random.randint(0,self.num)\n",
    "\n",
    "    def chosen_door(self):\n",
    "        return np.random.randint(0,self.num)\n",
    "\n",
    "    def open_door(self,chosend):\n",
    "        a = np.arange(self.num)\n",
    "        return a[(a!=chosend)][np.random.randint(0,self.num -1)]\n",
    "\n",
    "    def change_notchange(self):\n",
    "        return np.random.randint(0,2)\n",
    "\n",
    "    def door_left(self,chosend,openedd):\n",
    "        a = np.arange(self.num)    \n",
    "        return a[(a!=chosend)&(a!=openedd)][np.random.randint(0,self.num -2)]\n",
    "\n",
    "    def cal(self):\n",
    "\n",
    "        win  = 0\n",
    "        lose = 0\n",
    "        chwin= 0\n",
    "        unchwin = 0\n",
    "        \n",
    "        for i in range(self.nsim):\n",
    "            chosen_d = self.chosen_door()\n",
    "            cash_d   = self.cash_door()\n",
    "            open_d   = self.open_door( chosen_d )\n",
    "            \n",
    "            if open_d == cash_d:\n",
    "                lose += 1\n",
    "            else:\n",
    "                if self.change_notchange() == 1:\n",
    "                    chosen_d = self.door_left( chosen_d,open_d )\n",
    "                    if chosen_d == cash_d:\n",
    "                        win += 1\n",
    "                        chwin += 1\n",
    "                    else:\n",
    "                        lose += 1\n",
    "                else:\n",
    "                    if chosen_d == cash_d:\n",
    "                        win += 1\n",
    "                        unchwin += 1\n",
    "                    else:\n",
    "                        lose += 1\n",
    "                    \n",
    "        p = float(win)/self.nsim\n",
    "        cp = float(chwin)/self.nsim\n",
    "        ucp = float(unchwin)/self.nsim\n",
    "        \n",
    "        return p, cp, ucp\n",
    "\n",
    "\n",
    "        #print \"total game play = %d, win %d, lose %d\"%(self.nsim, win, lose)\n",
    "        #print \"win after change = \", cp\n",
    "        #print \"win after unchange = \", ucp\n",
    "        #print \"The possibility of winning the game = \",p\n",
    "        \n",
    "nsim =100\n",
    "num = 50\n",
    "        \n",
    "pobi = []\n",
    "doornum = []\n",
    " \n",
    "for n in range(3,num+1):\n",
    "    gamen = game(nsim,n)\n",
    "    pobi.append(gamen.cal()[0])\n",
    "    doornum.append(n)\n",
    "\n",
    "print pobi[0]\n",
    "\n",
    "with sns.axes_style(\"whitegrid\"):\n",
    "    a = plt.plot(doornum,pobi, 'o', label='simulation value')\n",
    "    b = plt.plot(doornum,[(1.0/i) for i in doornum], '-', label='theoretical value')\n",
    "    #plt.axvline(meanrat, 0, 0.75, color='r', label='Mean')\n",
    "    plt.xlabel(\"num of door\")\n",
    "    plt.ylabel(\"possibility of winning\")\n",
    "    plt.title(\"possibility of winning vs number of door\")\n",
    "    plt.legend()\n",
    "    plt.xlim(2,n+1)\n",
    "    plt.ylim(0)\n",
    "    plt.show()\n",
    "\n"
   ]
  },
  {
   "cell_type": "code",
   "execution_count": 1,
   "metadata": {
    "collapsed": false
   },
   "outputs": [
    {
     "ename": "SyntaxError",
     "evalue": "invalid syntax (<ipython-input-1-69133530e5ae>, line 2)",
     "output_type": "error",
     "traceback": [
      "\u001b[0;36m  File \u001b[0;32m\"<ipython-input-1-69133530e5ae>\"\u001b[0;36m, line \u001b[0;32m2\u001b[0m\n\u001b[0;31m    hey me i hate you rubbish\u001b[0m\n\u001b[0m         ^\u001b[0m\n\u001b[0;31mSyntaxError\u001b[0m\u001b[0;31m:\u001b[0m invalid syntax\n"
     ]
    }
   ],
   "source": [
    "can you see me?\n",
    "hey me i hate you rubbish"
   ]
  },
  {
   "cell_type": "code",
   "execution_count": null,
   "metadata": {
    "collapsed": true
   },
   "outputs": [],
   "source": []
  }
 ],
 "metadata": {
  "kernelspec": {
   "display_name": "Python [Root]",
   "language": "python",
   "name": "Python [Root]"
  },
  "language_info": {
   "codemirror_mode": {
    "name": "ipython",
    "version": 2
   },
   "file_extension": ".py",
   "mimetype": "text/x-python",
   "name": "python",
   "nbconvert_exporter": "python",
   "pygments_lexer": "ipython2",
   "version": "2.7.12"
  }
 },
 "nbformat": 4,
 "nbformat_minor": 0
}
